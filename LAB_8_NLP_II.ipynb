{
  "nbformat": 4,
  "nbformat_minor": 0,
  "metadata": {
    "colab": {
      "name": "LAB 8 NLP II.ipynb",
      "provenance": [],
      "authorship_tag": "ABX9TyP68uA3o+qdqvmK0quL21XZ",
      "include_colab_link": true
    },
    "kernelspec": {
      "name": "python3",
      "display_name": "Python 3"
    },
    "language_info": {
      "name": "python"
    }
  },
  "cells": [
    {
      "cell_type": "markdown",
      "metadata": {
        "id": "view-in-github",
        "colab_type": "text"
      },
      "source": [
        "<a href=\"https://colab.research.google.com/github/ncpitrsb/LAB-8-NLP-II/blob/main/LAB_8_NLP_II.ipynb\" target=\"_parent\"><img src=\"https://colab.research.google.com/assets/colab-badge.svg\" alt=\"Open In Colab\"/></a>"
      ]
    },
    {
      "cell_type": "code",
      "metadata": {
        "id": "XalyWdIWevnP"
      },
      "source": [
        "import tarfile\n",
        "import spacy\n",
        "import nltk\n",
        "import re\n",
        "from collections import Counter\n",
        "import tqdm"
      ],
      "execution_count": null,
      "outputs": []
    },
    {
      "cell_type": "code",
      "metadata": {
        "colab": {
          "base_uri": "https://localhost:8080/"
        },
        "id": "FaZc_vwcfIsH",
        "outputId": "1645f826-4672-4b29-f5ef-23732bfeddeb"
      },
      "source": [
        "!gdown --id 1KzQFUSHzhjNn-QozLnTLUqKbmdcJAV6U"
      ],
      "execution_count": null,
      "outputs": [
        {
          "output_type": "stream",
          "text": [
            "Downloading...\n",
            "From: https://drive.google.com/uc?id=1KzQFUSHzhjNn-QozLnTLUqKbmdcJAV6U\n",
            "To: /content/TNC3_unicode_tokenized_all.txt.zip\n",
            "75.9MB [00:00, 241MB/s]\n"
          ],
          "name": "stdout"
        }
      ]
    },
    {
      "cell_type": "code",
      "metadata": {
        "id": "nQa5DF-nfY2A"
      },
      "source": [
        "from zipfile import ZipFile\n",
        "with ZipFile('TNC3_unicode_tokenized_all.txt.zip') as zipf:\n",
        "  zipf.extractall()"
      ],
      "execution_count": null,
      "outputs": []
    },
    {
      "cell_type": "code",
      "metadata": {
        "id": "uMH4ALxvfdNK"
      },
      "source": [
        "d = [x.split('|') for x in open('TNC3_unicode_tokenized_all.txt').readlines()]"
      ],
      "execution_count": null,
      "outputs": []
    },
    {
      "cell_type": "code",
      "metadata": {
        "id": "8_5U1L9PvGoT"
      },
      "source": [
        "d"
      ],
      "execution_count": null,
      "outputs": []
    },
    {
      "cell_type": "code",
      "metadata": {
        "id": "NZcR8WofhACG"
      },
      "source": [
        "token_list = [j for i in d for j in i]"
      ],
      "execution_count": null,
      "outputs": []
    },
    {
      "cell_type": "code",
      "metadata": {
        "id": "7PbnJgYdicOo"
      },
      "source": [
        "# i = 899999\n",
        "# token_list[i: (i+5-1)]"
      ],
      "execution_count": null,
      "outputs": []
    },
    {
      "cell_type": "code",
      "metadata": {
        "id": "zz8HSgnDinPX"
      },
      "source": [
        "# token_list[i+5-1]"
      ],
      "execution_count": null,
      "outputs": []
    },
    {
      "cell_type": "code",
      "metadata": {
        "id": "AVuqQewviuNM"
      },
      "source": [
        "# ' '.join(token_list[i:i+10])"
      ],
      "execution_count": null,
      "outputs": []
    },
    {
      "cell_type": "code",
      "metadata": {
        "id": "oZhOreR6lIAm"
      },
      "source": [
        "def train_ngram(tokens, context_size):\n",
        "    ngram_dict = {}\n",
        "    for i in tqdm.tqdm(range(len(tokens) - context_size)):\n",
        "        context = tuple(tokens[i:(i+context_size-1)])\n",
        "        word = tokens[i+context_size-1]\n",
        "        if context not in ngram_dict:\n",
        "            ngram_dict[context] = Counter()\n",
        "        # ngram_dict[context].append(word)\n",
        "        ngram_dict[context][word] += 1\n",
        "    return ngram_dict"
      ],
      "execution_count": null,
      "outputs": []
    },
    {
      "cell_type": "code",
      "metadata": {
        "colab": {
          "base_uri": "https://localhost:8080/"
        },
        "id": "tYNLpZeRjF_T",
        "outputId": "bda20af3-9e66-4eae-f300-d5f648caff4a"
      },
      "source": [
        "fivegram = train_ngram(token_list[:5000000], 5)"
      ],
      "execution_count": null,
      "outputs": [
        {
          "output_type": "stream",
          "text": [
            "100%|██████████| 4999995/4999995 [00:30<00:00, 164655.70it/s]\n"
          ],
          "name": "stderr"
        }
      ]
    },
    {
      "cell_type": "code",
      "metadata": {
        "id": "uSMvh3omnI_q"
      },
      "source": [
        "fivegram[('โดย', 'ให้','ผู้','รับผิดชอบ')].most_common()"
      ],
      "execution_count": null,
      "outputs": []
    },
    {
      "cell_type": "code",
      "metadata": {
        "id": "adGeRXebosjm"
      },
      "source": [
        "def normalize(count_dict):\n",
        "    for key in tqdm.tqdm(count_dict):\n",
        "        total = sum(count_dict[key].values())\n",
        "        for word in count_dict[key]:\n",
        "            count_dict[key][word] = count_dict[key][word] / total"
      ],
      "execution_count": null,
      "outputs": []
    },
    {
      "cell_type": "code",
      "metadata": {
        "colab": {
          "base_uri": "https://localhost:8080/"
        },
        "id": "fozQgbgrowaD",
        "outputId": "c41dc75d-49d3-4cae-f14c-666c420ca225"
      },
      "source": [
        "normalize(fivegram)"
      ],
      "execution_count": null,
      "outputs": [
        {
          "output_type": "stream",
          "text": [
            "100%|██████████| 3182915/3182915 [00:05<00:00, 621926.03it/s]\n"
          ],
          "name": "stderr"
        }
      ]
    },
    {
      "cell_type": "code",
      "metadata": {
        "colab": {
          "base_uri": "https://localhost:8080/"
        },
        "id": "Hb0DH1vno5KC",
        "outputId": "96c7de2e-ea4e-4bd0-8340-cb114c031a5e"
      },
      "source": [
        "fivegram[('โดย', 'ให้','ผู้','รับผิดชอบ')].most_common()"
      ],
      "execution_count": null,
      "outputs": [
        {
          "output_type": "execute_result",
          "data": {
            "text/plain": [
              "[('ต้อง', 1.0)]"
            ]
          },
          "metadata": {
            "tags": []
          },
          "execution_count": 49
        }
      ]
    },
    {
      "cell_type": "code",
      "metadata": {
        "id": "QiFAxmkYqikV"
      },
      "source": [
        "def update_context(context, random_word):\n",
        "  temp = list(context)\n",
        "  temp.pop(0)\n",
        "  context = tuple(temp)\n",
        "  new_word = random_word[0]\n",
        "  return context + (new_word,)\n",
        "  "
      ],
      "execution_count": null,
      "outputs": []
    },
    {
      "cell_type": "code",
      "metadata": {
        "id": "qoTM4DEWq54o"
      },
      "source": [
        "import random"
      ],
      "execution_count": null,
      "outputs": []
    },
    {
      "cell_type": "code",
      "metadata": {
        "id": "KAHBpAhwpFjo"
      },
      "source": [
        "def generate(context,num_words,ngram_dict):\n",
        "  answer = list(context)\n",
        "  for i in range(num_words):\n",
        "    if context not in ngram_dict:\n",
        "      exit\n",
        "    random_word = random.choice(ngram_dict[context].most_common())\n",
        "    answer.append(random_word[0])\n",
        "    context = update_context(context, random_word)\n",
        "  return answer\n"
      ],
      "execution_count": null,
      "outputs": []
    },
    {
      "cell_type": "code",
      "metadata": {
        "colab": {
          "base_uri": "https://localhost:8080/",
          "height": 35
        },
        "id": "vugoAzs_pi-R",
        "outputId": "4792a617-9fc7-4750-d60c-f03dd3bad72e"
      },
      "source": [
        "new = generate(('โดย', 'ให้','ผู้','รับผิดชอบ'),10,fivegram)\n",
        "str_ =''.join(new)\n",
        "str_"
      ],
      "execution_count": null,
      "outputs": [
        {
          "output_type": "execute_result",
          "data": {
            "application/vnd.google.colaboratory.intrinsic+json": {
              "type": "string"
            },
            "text/plain": [
              "'โดยให้ผู้รับผิดชอบต้องกำหนดหน่วยวัดความสำเร็จของผลงาน '"
            ]
          },
          "metadata": {
            "tags": []
          },
          "execution_count": 57
        }
      ]
    }
  ]
}